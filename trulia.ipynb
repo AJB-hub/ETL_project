{
 "cells": [
  {
   "cell_type": "markdown",
   "id": "29549ab6-50de-4409-82d6-88f5184ea5a6",
   "metadata": {},
   "source": [
    "### Import Dependencies"
   ]
  },
  {
   "cell_type": "code",
   "execution_count": 2,
   "id": "4ed013a2-f859-4680-b984-3181fe26428f",
   "metadata": {},
   "outputs": [],
   "source": [
    "from splinter import Browser\n",
    "from bs4 import BeautifulSoup\n",
    "from webdriver_manager.chrome import ChromeDriverManager\n",
    "import pandas as pd"
   ]
  },
  {
   "cell_type": "code",
   "execution_count": 3,
   "id": "46858475-fdfc-4939-ac9c-8ee31f1a409f",
   "metadata": {},
   "outputs": [],
   "source": [
    "# PCA dependencies\n",
    "from sklearn.preprocessing import StandardScaler"
   ]
  },
  {
   "cell_type": "code",
   "execution_count": 4,
   "id": "3843c8c6-98ca-41b8-885a-8fd07c4a9a15",
   "metadata": {},
   "outputs": [
    {
     "name": "stderr",
     "output_type": "stream",
     "text": [
      "\n",
      "\n",
      "====== WebDriver manager ======\n",
      "Current google-chrome version is 91.0.4472\n",
      "Get LATEST driver version for 91.0.4472\n",
      "Get LATEST driver version for 91.0.4472\n",
      "Trying to download new driver from https://chromedriver.storage.googleapis.com/91.0.4472.101/chromedriver_win32.zip\n",
      "Driver has been saved in cache [C:\\Users\\Andrew\\.wdm\\drivers\\chromedriver\\win32\\91.0.4472.101]\n"
     ]
    }
   ],
   "source": [
    "# Setup splinter\n",
    "executable_path = {'executable_path': ChromeDriverManager().install()}\n",
    "browser = Browser('chrome', **executable_path, headless=False)"
   ]
  },
  {
   "cell_type": "code",
   "execution_count": 5,
   "id": "281900f8-3275-4f44-ba37-694c76f560e7",
   "metadata": {},
   "outputs": [],
   "source": [
    "#Page URL\n",
    "url = 'https://www.trulia.com/for_sale/36.63199,38.40726,-78.77798,-76.20855_xy/9_zm/'\n",
    "browser.visit(url)"
   ]
  },
  {
   "cell_type": "markdown",
   "id": "6617c646-e5e6-4ac2-82bc-7cda2074cd40",
   "metadata": {},
   "source": [
    "### Web Scrape"
   ]
  },
  {
   "cell_type": "code",
   "execution_count": 6,
   "id": "ae9a8f15-259e-4315-9e2e-3a41849811e0",
   "metadata": {},
   "outputs": [
    {
     "name": "stdout",
     "output_type": "stream",
     "text": [
      "Processing Page 49 - Next Pagend\r"
     ]
    }
   ],
   "source": [
    "# Initialize Lists\n",
    "housePrices = []\n",
    "houseRegion = []\n",
    "houseSqrFt = []\n",
    "houseBath = []\n",
    "houseBed = []\n",
    "\n",
    "\n",
    "#For each page of houses\n",
    "for x in range(1, 50):\n",
    "    \n",
    "    print(f'Processing Page {x} - Initialize', end='\\r')\n",
    "    html = browser.html\n",
    "    soup = BeautifulSoup(html, 'html.parser')\n",
    "    \n",
    "    #Data scrape from html\n",
    "    prices = soup.find_all('div', {'data-testid' : \"property-price\"})\n",
    "    beds = soup.find_all('div', {'data-testid' : \"property-beds\"})\n",
    "    baths = soup.find_all('div', {'data-testid' : \"property-baths\"})\n",
    "    sqrFt = soup.find_all('div', {'data-testid' : \"property-floorSpace\"})\n",
    "    region = soup.find_all('div', {'data-testid' : \"property-region\"})\n",
    "    print(f'Processing Page {x} - Data Scrape', end='\\r')\n",
    "    \n",
    "    #Add scraped data to lists\n",
    "    for i, price in enumerate(prices):        \n",
    "        housePrices.append(price.text)\n",
    "        houseBed.append(beds[i].text[0])\n",
    "        houseBath.append(baths[i].text[0])\n",
    "        houseSqrFt.append(sqrFt[i].text.split()[0])\n",
    "        houseRegion.append(region[i].text)\n",
    "    print(f'Processing Page {x} - List append', end='\\r')\n",
    "\n",
    "    #Next Page button\n",
    "    browser.find_by_xpath('//*[@id=\"resultsColumn\"]/nav/ul/li[8]/a/div/svg')\n",
    "    print(f'Processing Page {x} - Next Page', end='\\r')\n",
    "    \n",
    "    "
   ]
  },
  {
   "cell_type": "code",
   "execution_count": 7,
   "id": "691696a3-b055-4438-abb8-1b1379e74dc4",
   "metadata": {},
   "outputs": [],
   "source": [
    "# Initialize Data Frame\n",
    "house_df = pd.DataFrame(\n",
    "    {\n",
    "        'Prices': housePrices,\n",
    "        'Beds': houseBed,\n",
    "        'Baths': houseBath,\n",
    "        'SquareFt': houseSqrFt,\n",
    "        'Loc': houseRegion\n",
    "    }\n",
    "\n",
    ")"
   ]
  },
  {
   "cell_type": "code",
   "execution_count": 8,
   "id": "4734458b-7ae1-4bf8-9479-03cc352287e2",
   "metadata": {},
   "outputs": [
    {
     "name": "stdout",
     "output_type": "stream",
     "text": [
      "Bath Data already converted.\n"
     ]
    }
   ],
   "source": [
    "#Data Conversion\n",
    "\n",
    "try: \n",
    "    house_df.SquareFt = house_df.SquareFt.str.replace(',', '').astype(int)\n",
    "except:\n",
    "    print('Sqrft Data already converted.')\n",
    "try:\n",
    "    house_df.Beds = house_df.Beds.astype(int)\n",
    "except:\n",
    "    print('Bed Data already converted.')\n",
    "try:\n",
    "    house_df.Bath = house_df.Bath.astype(int)\n",
    "except:\n",
    "    print('Bath Data already converted.')\n",
    "\n",
    "try:\n",
    "    house_df.Prices = house_df.Prices.replace('[\\$,]', '', regex=True).astype(float)\n",
    "except:\n",
    "    print('Price Data already Converted.')\n"
   ]
  },
  {
   "cell_type": "code",
   "execution_count": 9,
   "id": "07479c03-2b5c-4ddf-b96f-46dd7ed43eb8",
   "metadata": {},
   "outputs": [
    {
     "data": {
      "text/plain": [
       "Prices      float64\n",
       "Beds          int32\n",
       "Baths        object\n",
       "SquareFt      int32\n",
       "Loc          object\n",
       "dtype: object"
      ]
     },
     "execution_count": 9,
     "metadata": {},
     "output_type": "execute_result"
    }
   ],
   "source": [
    "house_df.dtypes"
   ]
  },
  {
   "cell_type": "code",
   "execution_count": 10,
   "id": "2cf4b14f-44ab-48ae-82a7-c4bdd044c087",
   "metadata": {},
   "outputs": [
    {
     "data": {
      "text/html": [
       "<div>\n",
       "<style scoped>\n",
       "    .dataframe tbody tr th:only-of-type {\n",
       "        vertical-align: middle;\n",
       "    }\n",
       "\n",
       "    .dataframe tbody tr th {\n",
       "        vertical-align: top;\n",
       "    }\n",
       "\n",
       "    .dataframe thead th {\n",
       "        text-align: right;\n",
       "    }\n",
       "</style>\n",
       "<table border=\"1\" class=\"dataframe\">\n",
       "  <thead>\n",
       "    <tr style=\"text-align: right;\">\n",
       "      <th></th>\n",
       "      <th>Prices</th>\n",
       "      <th>Beds</th>\n",
       "      <th>Baths</th>\n",
       "      <th>SquareFt</th>\n",
       "      <th>Loc</th>\n",
       "    </tr>\n",
       "  </thead>\n",
       "  <tbody>\n",
       "    <tr>\n",
       "      <th>0</th>\n",
       "      <td>270000.0</td>\n",
       "      <td>4</td>\n",
       "      <td>3</td>\n",
       "      <td>2283</td>\n",
       "      <td>Western Branch South, Chesapeake, VA</td>\n",
       "    </tr>\n",
       "    <tr>\n",
       "      <th>1</th>\n",
       "      <td>299750.0</td>\n",
       "      <td>4</td>\n",
       "      <td>2</td>\n",
       "      <td>1750</td>\n",
       "      <td>South Norfolk, Chesapeake, VA</td>\n",
       "    </tr>\n",
       "    <tr>\n",
       "      <th>2</th>\n",
       "      <td>260000.0</td>\n",
       "      <td>3</td>\n",
       "      <td>2</td>\n",
       "      <td>2444</td>\n",
       "      <td>North Chesterfield, VA</td>\n",
       "    </tr>\n",
       "    <tr>\n",
       "      <th>3</th>\n",
       "      <td>380000.0</td>\n",
       "      <td>5</td>\n",
       "      <td>3</td>\n",
       "      <td>2750</td>\n",
       "      <td>Midlothian, VA</td>\n",
       "    </tr>\n",
       "    <tr>\n",
       "      <th>4</th>\n",
       "      <td>489000.0</td>\n",
       "      <td>3</td>\n",
       "      <td>3</td>\n",
       "      <td>2351</td>\n",
       "      <td>Glen Allen, VA</td>\n",
       "    </tr>\n",
       "    <tr>\n",
       "      <th>...</th>\n",
       "      <td>...</td>\n",
       "      <td>...</td>\n",
       "      <td>...</td>\n",
       "      <td>...</td>\n",
       "      <td>...</td>\n",
       "    </tr>\n",
       "    <tr>\n",
       "      <th>1465</th>\n",
       "      <td>240000.0</td>\n",
       "      <td>4</td>\n",
       "      <td>2</td>\n",
       "      <td>2620</td>\n",
       "      <td>Mercury Central, Hampton, VA</td>\n",
       "    </tr>\n",
       "    <tr>\n",
       "      <th>1466</th>\n",
       "      <td>310000.0</td>\n",
       "      <td>4</td>\n",
       "      <td>3</td>\n",
       "      <td>2000</td>\n",
       "      <td>Great Bridge East, Chesapeake, VA</td>\n",
       "    </tr>\n",
       "    <tr>\n",
       "      <th>1467</th>\n",
       "      <td>350000.0</td>\n",
       "      <td>4</td>\n",
       "      <td>3</td>\n",
       "      <td>2238</td>\n",
       "      <td>Fredericksburg, VA</td>\n",
       "    </tr>\n",
       "    <tr>\n",
       "      <th>1468</th>\n",
       "      <td>295000.0</td>\n",
       "      <td>4</td>\n",
       "      <td>3</td>\n",
       "      <td>2016</td>\n",
       "      <td>Henrico, VA</td>\n",
       "    </tr>\n",
       "    <tr>\n",
       "      <th>1469</th>\n",
       "      <td>305000.0</td>\n",
       "      <td>3</td>\n",
       "      <td>3</td>\n",
       "      <td>1620</td>\n",
       "      <td>Henrico, VA</td>\n",
       "    </tr>\n",
       "  </tbody>\n",
       "</table>\n",
       "<p>1470 rows × 5 columns</p>\n",
       "</div>"
      ],
      "text/plain": [
       "        Prices  Beds Baths  SquareFt                                   Loc\n",
       "0     270000.0     4     3      2283  Western Branch South, Chesapeake, VA\n",
       "1     299750.0     4     2      1750         South Norfolk, Chesapeake, VA\n",
       "2     260000.0     3     2      2444                North Chesterfield, VA\n",
       "3     380000.0     5     3      2750                        Midlothian, VA\n",
       "4     489000.0     3     3      2351                        Glen Allen, VA\n",
       "...        ...   ...   ...       ...                                   ...\n",
       "1465  240000.0     4     2      2620          Mercury Central, Hampton, VA\n",
       "1466  310000.0     4     3      2000     Great Bridge East, Chesapeake, VA\n",
       "1467  350000.0     4     3      2238                    Fredericksburg, VA\n",
       "1468  295000.0     4     3      2016                           Henrico, VA\n",
       "1469  305000.0     3     3      1620                           Henrico, VA\n",
       "\n",
       "[1470 rows x 5 columns]"
      ]
     },
     "execution_count": 10,
     "metadata": {},
     "output_type": "execute_result"
    }
   ],
   "source": [
    "house_df"
   ]
  },
  {
   "cell_type": "markdown",
   "id": "79109137-229b-422a-8647-59448a5594d0",
   "metadata": {},
   "source": [
    "### Export to CSV to load into database\n"
   ]
  },
  {
   "cell_type": "code",
   "execution_count": 11,
   "id": "28ba02ff-7fad-41ee-a1ee-932e0b7e58a9",
   "metadata": {},
   "outputs": [],
   "source": [
    "house_df.to_csv('./Resources/housingdata.csv')"
   ]
  },
  {
   "cell_type": "markdown",
   "id": "a58c3132-1353-4138-8b1f-f7db24212423",
   "metadata": {},
   "source": [
    "### Additional Analysis"
   ]
  },
  {
   "cell_type": "code",
   "execution_count": 12,
   "id": "ae6c7e8c-91f4-4b70-b91a-0aed861f9013",
   "metadata": {},
   "outputs": [],
   "source": [
    "features = ['Prices', 'Beds', 'Baths', 'SquareFt']"
   ]
  },
  {
   "cell_type": "code",
   "execution_count": 13,
   "id": "3255a872-2c3a-43fa-8534-d4a67b9c8468",
   "metadata": {},
   "outputs": [],
   "source": [
    "x = house_df.loc[:, features].values\n",
    "\n",
    "y = house_df.loc[:,['Loc']].values\n",
    "\n",
    "x = StandardScaler().fit_transform(x)"
   ]
  },
  {
   "cell_type": "code",
   "execution_count": 14,
   "id": "6ff32cbb-f008-46ab-bed6-fcd17a5bf3d9",
   "metadata": {},
   "outputs": [],
   "source": [
    "from sklearn.decomposition import PCA\n",
    "\n",
    "pca = PCA(n_components=2)\n",
    "\n",
    "principalComponents = pca.fit_transform(x)\n",
    "\n",
    "principal_df = pd.DataFrame(\n",
    "    data = principalComponents,\n",
    "    columns = ['pc1', 'pc2']\n",
    "    \n",
    ")"
   ]
  },
  {
   "cell_type": "code",
   "execution_count": 15,
   "id": "3675c81b-23fc-4987-89d8-713dfe9a056e",
   "metadata": {},
   "outputs": [],
   "source": [
    "finalDf = pd.concat(\n",
    "    [principal_df, house_df[['Loc']]], axis = 1\n",
    ")"
   ]
  },
  {
   "cell_type": "code",
   "execution_count": 16,
   "id": "2c0a27c7-eb66-42d7-94b0-b3ae22f2a295",
   "metadata": {},
   "outputs": [
    {
     "data": {
      "text/html": [
       "<div>\n",
       "<style scoped>\n",
       "    .dataframe tbody tr th:only-of-type {\n",
       "        vertical-align: middle;\n",
       "    }\n",
       "\n",
       "    .dataframe tbody tr th {\n",
       "        vertical-align: top;\n",
       "    }\n",
       "\n",
       "    .dataframe thead th {\n",
       "        text-align: right;\n",
       "    }\n",
       "</style>\n",
       "<table border=\"1\" class=\"dataframe\">\n",
       "  <thead>\n",
       "    <tr style=\"text-align: right;\">\n",
       "      <th></th>\n",
       "      <th>pc1</th>\n",
       "      <th>pc2</th>\n",
       "      <th>Loc</th>\n",
       "    </tr>\n",
       "  </thead>\n",
       "  <tbody>\n",
       "    <tr>\n",
       "      <th>0</th>\n",
       "      <td>0.931828</td>\n",
       "      <td>-0.921710</td>\n",
       "      <td>Western Branch South, Chesapeake, VA</td>\n",
       "    </tr>\n",
       "    <tr>\n",
       "      <th>1</th>\n",
       "      <td>-0.410046</td>\n",
       "      <td>-0.214206</td>\n",
       "      <td>South Norfolk, Chesapeake, VA</td>\n",
       "    </tr>\n",
       "    <tr>\n",
       "      <th>2</th>\n",
       "      <td>-0.533326</td>\n",
       "      <td>0.125796</td>\n",
       "      <td>North Chesterfield, VA</td>\n",
       "    </tr>\n",
       "    <tr>\n",
       "      <th>3</th>\n",
       "      <td>2.651467</td>\n",
       "      <td>-0.729037</td>\n",
       "      <td>Midlothian, VA</td>\n",
       "    </tr>\n",
       "    <tr>\n",
       "      <th>4</th>\n",
       "      <td>1.123012</td>\n",
       "      <td>1.524844</td>\n",
       "      <td>Glen Allen, VA</td>\n",
       "    </tr>\n",
       "    <tr>\n",
       "      <th>...</th>\n",
       "      <td>...</td>\n",
       "      <td>...</td>\n",
       "      <td>...</td>\n",
       "    </tr>\n",
       "    <tr>\n",
       "      <th>1465</th>\n",
       "      <td>0.340908</td>\n",
       "      <td>-0.722039</td>\n",
       "      <td>Mercury Central, Hampton, VA</td>\n",
       "    </tr>\n",
       "    <tr>\n",
       "      <th>1466</th>\n",
       "      <td>0.769024</td>\n",
       "      <td>-0.590567</td>\n",
       "      <td>Great Bridge East, Chesapeake, VA</td>\n",
       "    </tr>\n",
       "    <tr>\n",
       "      <th>1467</th>\n",
       "      <td>1.197692</td>\n",
       "      <td>-0.274789</td>\n",
       "      <td>Fredericksburg, VA</td>\n",
       "    </tr>\n",
       "    <tr>\n",
       "      <th>1468</th>\n",
       "      <td>0.727760</td>\n",
       "      <td>-0.712088</td>\n",
       "      <td>Henrico, VA</td>\n",
       "    </tr>\n",
       "    <tr>\n",
       "      <th>1469</th>\n",
       "      <td>-0.435850</td>\n",
       "      <td>0.061535</td>\n",
       "      <td>Henrico, VA</td>\n",
       "    </tr>\n",
       "  </tbody>\n",
       "</table>\n",
       "<p>1470 rows × 3 columns</p>\n",
       "</div>"
      ],
      "text/plain": [
       "           pc1       pc2                                   Loc\n",
       "0     0.931828 -0.921710  Western Branch South, Chesapeake, VA\n",
       "1    -0.410046 -0.214206         South Norfolk, Chesapeake, VA\n",
       "2    -0.533326  0.125796                North Chesterfield, VA\n",
       "3     2.651467 -0.729037                        Midlothian, VA\n",
       "4     1.123012  1.524844                        Glen Allen, VA\n",
       "...        ...       ...                                   ...\n",
       "1465  0.340908 -0.722039          Mercury Central, Hampton, VA\n",
       "1466  0.769024 -0.590567     Great Bridge East, Chesapeake, VA\n",
       "1467  1.197692 -0.274789                    Fredericksburg, VA\n",
       "1468  0.727760 -0.712088                           Henrico, VA\n",
       "1469 -0.435850  0.061535                           Henrico, VA\n",
       "\n",
       "[1470 rows x 3 columns]"
      ]
     },
     "execution_count": 16,
     "metadata": {},
     "output_type": "execute_result"
    }
   ],
   "source": [
    "finalDf"
   ]
  },
  {
   "cell_type": "code",
   "execution_count": 19,
   "id": "2313a69d-6112-4b83-ada9-eb8d4d1ec09e",
   "metadata": {},
   "outputs": [],
   "source": [
    "import matplotlib.pyplot as plt \n",
    "import matplotlib"
   ]
  },
  {
   "cell_type": "code",
   "execution_count": 20,
   "id": "2f0f5f8a-21d8-4ad6-acef-06f43334f800",
   "metadata": {},
   "outputs": [
    {
     "data": {
      "image/png": "[encoded data removed]",
      "text/plain": [
       "<Figure size 576x576 with 1 Axes>"
      ]
     },
     "metadata": {
      "needs_background": "light"
     },
     "output_type": "display_data"
    }
   ],
   "source": [
    "\n",
    "# Additional Plotting\n",
    "fig = plt.figure(figsize = (8,8))\n",
    "ax = fig.add_subplot(1,1,1) \n",
    "ax.set_xlabel('Principal Component 1', fontsize = 15)\n",
    "ax.set_ylabel('Principal Component 2', fontsize = 15)\n",
    "ax.set_title('2 component PCA', fontsize = 20)\n",
    "targets = list(pd.unique(house_df.Loc.values))\n",
    "colors = list(matplotlib.colors.cnames.values())[0:16]\n",
    "for target, color in zip(targets,colors):\n",
    "    indicesToKeep = finalDf['Loc'] == target\n",
    "    ax.scatter(finalDf.loc[indicesToKeep, 'pc1']\n",
    "               , finalDf.loc[indicesToKeep, 'pc2']\n",
    "               , c = color\n",
    "               , s = 50)\n",
    "ax.legend(targets)\n",
    "ax.grid()"
   ]
  },
  {
   "cell_type": "code",
   "execution_count": null,
   "id": "f807eaa4-79de-4894-a887-96b6052fdcc3",
   "metadata": {},
   "outputs": [],
   "source": []
  },
  {
   "cell_type": "code",
   "execution_count": null,
   "id": "96212317-e363-40e9-be35-4097f3ee4f2e",
   "metadata": {},
   "outputs": [],
   "source": []
  },
  {
   "cell_type": "code",
   "execution_count": null,
   "id": "a77e7fc2-2ba4-4c41-bd43-07848105de36",
   "metadata": {},
   "outputs": [],
   "source": []
  },
  {
   "cell_type": "code",
   "execution_count": null,
   "id": "3b0c7044-f35e-4c21-a1ae-06cf11d2f4dd",
   "metadata": {},
   "outputs": [],
   "source": []
  }
 ],
 "metadata": {
  "kernelspec": {
   "display_name": "PythonData",
   "language": "python",
   "name": "pythondata"
  },
  "language_info": {
   "codemirror_mode": {
    "name": "ipython",
    "version": 3
   },
   "file_extension": ".py",
   "mimetype": "text/x-python",
   "name": "python",
   "nbconvert_exporter": "python",
   "pygments_lexer": "ipython3",
   "version": "3.6.10"
  }
 },
 "nbformat": 4,
 "nbformat_minor": 5
}
