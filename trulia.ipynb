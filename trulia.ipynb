{
 "cells": [
  {
   "cell_type": "code",
   "execution_count": 1,
   "id": "4ed013a2-f859-4680-b984-3181fe26428f",
   "metadata": {},
   "outputs": [],
   "source": [
    "from splinter import Browser\n",
    "from bs4 import BeautifulSoup\n",
    "from webdriver_manager.chrome import ChromeDriverManager\n",
    "import pandas as pd"
   ]
  },
  {
   "cell_type": "code",
   "execution_count": 12,
   "id": "46858475-fdfc-4939-ac9c-8ee31f1a409f",
   "metadata": {},
   "outputs": [],
   "source": [
    "from sklearn.preprocessing import StandardScaler"
   ]
  },
  {
   "cell_type": "code",
   "execution_count": 2,
   "id": "3843c8c6-98ca-41b8-885a-8fd07c4a9a15",
   "metadata": {},
   "outputs": [
    {
     "name": "stderr",
     "output_type": "stream",
     "text": [
      "\n",
      "\n",
      "====== WebDriver manager ======\n",
      "Current google-chrome version is 91.0.4472\n",
      "Get LATEST driver version for 91.0.4472\n",
      "Driver [C:\\Users\\Andrew\\.wdm\\drivers\\chromedriver\\win32\\91.0.4472.101\\chromedriver.exe] found in cache\n"
     ]
    }
   ],
   "source": [
    "# Setup splinter\n",
    "executable_path = {'executable_path': ChromeDriverManager().install()}\n",
    "browser = Browser('chrome', **executable_path, headless=False)"
   ]
  },
  {
   "cell_type": "code",
   "execution_count": 3,
   "id": "281900f8-3275-4f44-ba37-694c76f560e7",
   "metadata": {},
   "outputs": [],
   "source": [
    "#Page URL\n",
    "url = 'https://www.trulia.com/for_sale/36.63199,38.40726,-78.77798,-76.20855_xy/9_zm/'\n",
    "browser.visit(url)"
   ]
  },
  {
   "cell_type": "code",
   "execution_count": 4,
   "id": "ae9a8f15-259e-4315-9e2e-3a41849811e0",
   "metadata": {},
   "outputs": [
    {
     "name": "stdout",
     "output_type": "stream",
     "text": [
      "Processing Page 19 4\r"
     ]
    }
   ],
   "source": [
    "# Initialize Lists\n",
    "housePrices = []\n",
    "houseRegion = []\n",
    "houseSqrFt = []\n",
    "houseBath = []\n",
    "houseBed = []\n",
    "\n",
    "\n",
    "#For each page of houses\n",
    "for x in range(1, 20):\n",
    "    \n",
    "    print(f'Processing Page {x} - Initialize', end='\\r')\n",
    "    html = browser.html\n",
    "    soup = BeautifulSoup(html, 'html.parser')\n",
    "    \n",
    "    #Data scrape from html\n",
    "    prices = soup.find_all('div', {'data-testid' : \"property-price\"})\n",
    "    beds = soup.find_all('div', {'data-testid' : \"property-beds\"})\n",
    "    baths = soup.find_all('div', {'data-testid' : \"property-baths\"})\n",
    "    sqrFt = soup.find_all('div', {'data-testid' : \"property-floorSpace\"})\n",
    "    region = soup.find_all('div', {'data-testid' : \"property-region\"})\n",
    "    print(f'Processing Page {x} - Data Scrape', end='\\r')\n",
    "    \n",
    "    #Add scraped data to lists\n",
    "    for i, price in enumerate(prices):        \n",
    "        housePrices.append(price.text)\n",
    "        houseBed.append(beds[i].text[0])\n",
    "        houseBath.append(baths[i].text[0])\n",
    "        houseSqrFt.append(sqrFt[i].text.split()[0])\n",
    "        houseRegion.append(region[i].text)\n",
    "    print(f'Processing Page {x} - List append', end='\\r')\n",
    "\n",
    "    #Next Page button\n",
    "    browser.find_by_xpath('//*[@id=\"resultsColumn\"]/nav/ul/li[8]/a/div/svg')\n",
    "    print(f'Processing Page {x} - Next Page', end='\\r')\n",
    "    \n",
    "    "
   ]
  },
  {
   "cell_type": "code",
   "execution_count": 5,
   "id": "691696a3-b055-4438-abb8-1b1379e74dc4",
   "metadata": {},
   "outputs": [],
   "source": [
    "# Initialize Data Frame\n",
    "house_df = pd.DataFrame(\n",
    "    {\n",
    "        'Prices': housePrices,\n",
    "        'Beds': houseBed,\n",
    "        'Baths': houseBath,\n",
    "        'SquareFt': houseSqrFt,\n",
    "        'Loc': houseRegion\n",
    "    }\n",
    "\n",
    ")"
   ]
  },
  {
   "cell_type": "code",
   "execution_count": 6,
   "id": "4734458b-7ae1-4bf8-9479-03cc352287e2",
   "metadata": {},
   "outputs": [
    {
     "name": "stdout",
     "output_type": "stream",
     "text": [
      "Bath Data already converted.\n"
     ]
    }
   ],
   "source": [
    "#Data Conversion\n",
    "\n",
    "try: \n",
    "    house_df.SquareFt = house_df.SquareFt.str.replace(',', '').astype(int)\n",
    "except:\n",
    "    print('Sqrft Data already converted.')\n",
    "try:\n",
    "    house_df.Beds = house_df.Beds.astype(int)\n",
    "except:\n",
    "    print('Bed Data already converted.')\n",
    "try:\n",
    "    house_df.Bath = house_df.Bath.astype(int)\n",
    "except:\n",
    "    print('Bath Data already converted.')\n",
    "\n",
    "try:\n",
    "    house_df.Prices = house_df.Prices.replace('[\\$,]', '', regex=True).astype(float)\n",
    "except:\n",
    "    print('Price Data already Converted.')\n"
   ]
  },
  {
   "cell_type": "code",
   "execution_count": 7,
   "id": "07479c03-2b5c-4ddf-b96f-46dd7ed43eb8",
   "metadata": {},
   "outputs": [
    {
     "data": {
      "text/plain": [
       "Prices      float64\n",
       "Beds          int32\n",
       "Baths        object\n",
       "SquareFt      int32\n",
       "Loc          object\n",
       "dtype: object"
      ]
     },
     "execution_count": 7,
     "metadata": {},
     "output_type": "execute_result"
    }
   ],
   "source": [
    "house_df.dtypes"
   ]
  },
  {
   "cell_type": "code",
   "execution_count": 13,
   "id": "ae6c7e8c-91f4-4b70-b91a-0aed861f9013",
   "metadata": {},
   "outputs": [],
   "source": [
    "features = ['Prices', 'Beds', 'Baths', 'SquareFt']"
   ]
  },
  {
   "cell_type": "code",
   "execution_count": 15,
   "id": "3255a872-2c3a-43fa-8534-d4a67b9c8468",
   "metadata": {},
   "outputs": [],
   "source": [
    "x = house_df.loc[:, features].values\n",
    "\n",
    "y = house_df.loc[:,['Loc']].values\n",
    "\n",
    "x = StandardScaler().fit_transform(x)"
   ]
  },
  {
   "cell_type": "code",
   "execution_count": 17,
   "id": "6ff32cbb-f008-46ab-bed6-fcd17a5bf3d9",
   "metadata": {},
   "outputs": [],
   "source": [
    "from sklearn.decomposition import PCA\n",
    "\n",
    "pca = PCA(n_components=2)\n",
    "\n",
    "principalComponents = pca.fit_transform(x)\n",
    "\n",
    "principal_df = pd.DataFrame(\n",
    "    data = principalComponents,\n",
    "    columns = ['pc1', 'pc2']\n",
    "    \n",
    ")"
   ]
  },
  {
   "cell_type": "code",
   "execution_count": 48,
   "id": "3675c81b-23fc-4987-89d8-713dfe9a056e",
   "metadata": {},
   "outputs": [],
   "source": [
    "finalDf = pd.concat(\n",
    "    [principal_df, house_df[['Loc']]], axis = 1\n",
    ")"
   ]
  },
  {
   "cell_type": "code",
   "execution_count": 49,
   "id": "2c0a27c7-eb66-42d7-94b0-b3ae22f2a295",
   "metadata": {},
   "outputs": [
    {
     "data": {
      "text/html": [
       "<div>\n",
       "<style scoped>\n",
       "    .dataframe tbody tr th:only-of-type {\n",
       "        vertical-align: middle;\n",
       "    }\n",
       "\n",
       "    .dataframe tbody tr th {\n",
       "        vertical-align: top;\n",
       "    }\n",
       "\n",
       "    .dataframe thead th {\n",
       "        text-align: right;\n",
       "    }\n",
       "</style>\n",
       "<table border=\"1\" class=\"dataframe\">\n",
       "  <thead>\n",
       "    <tr style=\"text-align: right;\">\n",
       "      <th></th>\n",
       "      <th>pc1</th>\n",
       "      <th>pc2</th>\n",
       "      <th>Loc</th>\n",
       "    </tr>\n",
       "  </thead>\n",
       "  <tbody>\n",
       "    <tr>\n",
       "      <th>0</th>\n",
       "      <td>-2.572385</td>\n",
       "      <td>0.346034</td>\n",
       "      <td>North Chesterfield, VA</td>\n",
       "    </tr>\n",
       "    <tr>\n",
       "      <th>1</th>\n",
       "      <td>0.873317</td>\n",
       "      <td>-0.623762</td>\n",
       "      <td>North Chesterfield, VA</td>\n",
       "    </tr>\n",
       "    <tr>\n",
       "      <th>2</th>\n",
       "      <td>0.892260</td>\n",
       "      <td>0.424370</td>\n",
       "      <td>Midlothian, VA</td>\n",
       "    </tr>\n",
       "    <tr>\n",
       "      <th>3</th>\n",
       "      <td>0.519175</td>\n",
       "      <td>0.133733</td>\n",
       "      <td>Midlothian, VA</td>\n",
       "    </tr>\n",
       "    <tr>\n",
       "      <th>4</th>\n",
       "      <td>-0.590266</td>\n",
       "      <td>-1.605438</td>\n",
       "      <td>Charlottesville, VA</td>\n",
       "    </tr>\n",
       "    <tr>\n",
       "      <th>...</th>\n",
       "      <td>...</td>\n",
       "      <td>...</td>\n",
       "      <td>...</td>\n",
       "    </tr>\n",
       "    <tr>\n",
       "      <th>565</th>\n",
       "      <td>-2.196126</td>\n",
       "      <td>-0.169632</td>\n",
       "      <td>Chester, VA</td>\n",
       "    </tr>\n",
       "    <tr>\n",
       "      <th>566</th>\n",
       "      <td>0.382774</td>\n",
       "      <td>0.601725</td>\n",
       "      <td>Chester, VA</td>\n",
       "    </tr>\n",
       "    <tr>\n",
       "      <th>567</th>\n",
       "      <td>-1.057402</td>\n",
       "      <td>0.283468</td>\n",
       "      <td>Mechanicsville, VA</td>\n",
       "    </tr>\n",
       "    <tr>\n",
       "      <th>568</th>\n",
       "      <td>-1.248342</td>\n",
       "      <td>0.145979</td>\n",
       "      <td>Chesterfield, VA</td>\n",
       "    </tr>\n",
       "    <tr>\n",
       "      <th>569</th>\n",
       "      <td>2.444991</td>\n",
       "      <td>0.173648</td>\n",
       "      <td>Midlothian, VA</td>\n",
       "    </tr>\n",
       "  </tbody>\n",
       "</table>\n",
       "<p>570 rows × 3 columns</p>\n",
       "</div>"
      ],
      "text/plain": [
       "          pc1       pc2                     Loc\n",
       "0   -2.572385  0.346034  North Chesterfield, VA\n",
       "1    0.873317 -0.623762  North Chesterfield, VA\n",
       "2    0.892260  0.424370          Midlothian, VA\n",
       "3    0.519175  0.133733          Midlothian, VA\n",
       "4   -0.590266 -1.605438     Charlottesville, VA\n",
       "..        ...       ...                     ...\n",
       "565 -2.196126 -0.169632             Chester, VA\n",
       "566  0.382774  0.601725             Chester, VA\n",
       "567 -1.057402  0.283468      Mechanicsville, VA\n",
       "568 -1.248342  0.145979        Chesterfield, VA\n",
       "569  2.444991  0.173648          Midlothian, VA\n",
       "\n",
       "[570 rows x 3 columns]"
      ]
     },
     "execution_count": 49,
     "metadata": {},
     "output_type": "execute_result"
    }
   ],
   "source": [
    "finalDf"
   ]
  },
  {
   "cell_type": "code",
   "execution_count": 28,
   "id": "2313a69d-6112-4b83-ada9-eb8d4d1ec09e",
   "metadata": {},
   "outputs": [],
   "source": [
    "import matplotlib.pyplot as plt "
   ]
  },
  {
   "cell_type": "code",
   "execution_count": 65,
   "id": "2f0f5f8a-21d8-4ad6-acef-06f43334f800",
   "metadata": {},
   "outputs": [
    {
     "data": {
      "image/png": "[encoded data removed]",
      "text/plain": [
       "<Figure size 576x576 with 1 Axes>"
      ]
     },
     "metadata": {
      "needs_background": "light"
     },
     "output_type": "display_data"
    }
   ],
   "source": [
    "\n",
    "# Additon\n",
    "fig = plt.figure(figsize = (8,8))\n",
    "ax = fig.add_subplot(1,1,1) \n",
    "ax.set_xlabel('Principal Component 1', fontsize = 15)\n",
    "ax.set_ylabel('Principal Component 2', fontsize = 15)\n",
    "ax.set_title('2 component PCA', fontsize = 20)\n",
    "targets = list(pd.unique(house_df.Loc.values))\n",
    "colors = list(matplotlib.colors.cnames.values())[0:16]\n",
    "for target, color in zip(targets,colors):\n",
    "    indicesToKeep = finalDf['Loc'] == target\n",
    "    ax.scatter(finalDf.loc[indicesToKeep, 'pc1']\n",
    "               , finalDf.loc[indicesToKeep, 'pc2']\n",
    "               , c = color\n",
    "               , s = 50)\n",
    "ax.legend(targets)\n",
    "ax.grid()"
   ]
  },
  {
   "cell_type": "code",
   "execution_count": 40,
   "id": "f807eaa4-79de-4894-a887-96b6052fdcc3",
   "metadata": {},
   "outputs": [
    {
     "data": {
      "text/plain": [
       "['North Chesterfield, VA',\n",
       " 'Midlothian, VA',\n",
       " 'Charlottesville, VA',\n",
       " 'Fredericksburg, VA',\n",
       " 'Chesterfield, VA',\n",
       " 'Suffolk, VA',\n",
       " 'South Norfolk, Chesapeake, VA',\n",
       " 'Cedarhurst, Richmond, VA',\n",
       " 'Amelia Court House, VA',\n",
       " 'Fulton, Richmond, VA',\n",
       " 'Mechanicsville, VA',\n",
       " 'Western Branch South, Chesapeake, VA',\n",
       " 'Powhatan, VA',\n",
       " 'Waverly, VA',\n",
       " 'Chester, VA']"
      ]
     },
     "execution_count": 40,
     "metadata": {},
     "output_type": "execute_result"
    }
   ],
   "source": [
    "list(pd.unique(house_df.Loc.values))"
   ]
  },
  {
   "cell_type": "code",
   "execution_count": 58,
   "id": "96212317-e363-40e9-be35-4097f3ee4f2e",
   "metadata": {},
   "outputs": [
    {
     "data": {
      "text/plain": [
       "[('North Chesterfield, VA', 'r'),\n",
       " ('Midlothian, VA', 'r'),\n",
       " ('Charlottesville, VA', 'r'),\n",
       " ('Fredericksburg, VA', 'r'),\n",
       " ('Chesterfield, VA', 'r'),\n",
       " ('Suffolk, VA', 'r'),\n",
       " ('South Norfolk, Chesapeake, VA', 'r'),\n",
       " ('Cedarhurst, Richmond, VA', 'r'),\n",
       " ('Amelia Court House, VA', 'r'),\n",
       " ('Fulton, Richmond, VA', 'r'),\n",
       " ('Mechanicsville, VA', 'r'),\n",
       " ('Western Branch South, Chesapeake, VA', 'r'),\n",
       " ('Powhatan, VA', 'r'),\n",
       " ('Waverly, VA', 'r'),\n",
       " ('Chester, VA', 'r')]"
      ]
     },
     "execution_count": 58,
     "metadata": {},
     "output_type": "execute_result"
    }
   ],
   "source": [
    "targets = list(pd.unique(house_df.Loc.values))\n",
    "colors = ['r']*15\n",
    "list(zip(targets,colors))"
   ]
  },
  {
   "cell_type": "code",
   "execution_count": 64,
   "id": "a77e7fc2-2ba4-4c41-bd43-07848105de36",
   "metadata": {},
   "outputs": [
    {
     "data": {
      "text/plain": [
       "['#F0F8FF',\n",
       " '#FAEBD7',\n",
       " '#00FFFF',\n",
       " '#7FFFD4',\n",
       " '#F0FFFF',\n",
       " '#F5F5DC',\n",
       " '#FFE4C4',\n",
       " '#000000',\n",
       " '#FFEBCD',\n",
       " '#0000FF',\n",
       " '#8A2BE2',\n",
       " '#A52A2A',\n",
       " '#DEB887',\n",
       " '#5F9EA0',\n",
       " '#7FFF00',\n",
       " '#D2691E']"
      ]
     },
     "execution_count": 64,
     "metadata": {},
     "output_type": "execute_result"
    }
   ],
   "source": [
    "import matplotlib\n",
    "list(matplotlib.colors.cnames.values())[0:16]"
   ]
  },
  {
   "cell_type": "code",
   "execution_count": null,
   "id": "3b0c7044-f35e-4c21-a1ae-06cf11d2f4dd",
   "metadata": {},
   "outputs": [],
   "source": []
  }
 ],
 "metadata": {
  "kernelspec": {
   "display_name": "PythonData",
   "language": "python",
   "name": "pythondata"
  },
  "language_info": {
   "codemirror_mode": {
    "name": "ipython",
    "version": 3
   },
   "file_extension": ".py",
   "mimetype": "text/x-python",
   "name": "python",
   "nbconvert_exporter": "python",
   "pygments_lexer": "ipython3",
   "version": "3.6.10"
  }
 },
 "nbformat": 4,
 "nbformat_minor": 5
}
