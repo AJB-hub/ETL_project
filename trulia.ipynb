{
 "cells": [
  {
   "cell_type": "code",
   "execution_count": 1,
   "id": "4ed013a2-f859-4680-b984-3181fe26428f",
   "metadata": {},
   "outputs": [],
   "source": [
    "from splinter import Browser\n",
    "from bs4 import BeautifulSoup\n",
    "from webdriver_manager.chrome import ChromeDriverManager\n",
    "import pandas as pd"
   ]
  },
  {
   "cell_type": "code",
   "execution_count": 2,
   "id": "3843c8c6-98ca-41b8-885a-8fd07c4a9a15",
   "metadata": {},
   "outputs": [
    {
     "name": "stderr",
     "output_type": "stream",
     "text": [
      "\n",
      "\n",
      "====== WebDriver manager ======\n",
      "Current google-chrome version is 91.0.4472\n",
      "Get LATEST driver version for 91.0.4472\n",
      "Driver [C:\\Users\\Andrew\\.wdm\\drivers\\chromedriver\\win32\\91.0.4472.101\\chromedriver.exe] found in cache\n"
     ]
    }
   ],
   "source": [
    "# Setup splinter\n",
    "executable_path = {'executable_path': ChromeDriverManager().install()}\n",
    "browser = Browser('chrome', **executable_path, headless=False)"
   ]
  },
  {
   "cell_type": "code",
   "execution_count": 3,
   "id": "281900f8-3275-4f44-ba37-694c76f560e7",
   "metadata": {},
   "outputs": [],
   "source": [
    "#Page URL\n",
    "url = 'https://www.trulia.com/for_sale/36.63199,38.40726,-78.77798,-76.20855_xy/9_zm/'\n",
    "browser.visit(url)"
   ]
  },
  {
   "cell_type": "code",
   "execution_count": 4,
   "id": "ae9a8f15-259e-4315-9e2e-3a41849811e0",
   "metadata": {},
   "outputs": [
    {
     "name": "stdout",
     "output_type": "stream",
     "text": [
      "Processing Page 19 4\r"
     ]
    }
   ],
   "source": [
    "# Initialize Lists\n",
    "housePrices = []\n",
    "houseRegion = []\n",
    "houseSqrFt = []\n",
    "houseBath = []\n",
    "houseBed = []\n",
    "\n",
    "\n",
    "#For each page of houses\n",
    "for x in range(1, 20):\n",
    "    \n",
    "    print(f'Processing Page {x} - Initialize', end='\\r')\n",
    "    html = browser.html\n",
    "    soup = BeautifulSoup(html, 'html.parser')\n",
    "    \n",
    "    #Data scrape from html\n",
    "    prices = soup.find_all('div', {'data-testid' : \"property-price\"})\n",
    "    beds = soup.find_all('div', {'data-testid' : \"property-beds\"})\n",
    "    baths = soup.find_all('div', {'data-testid' : \"property-baths\"})\n",
    "    sqrFt = soup.find_all('div', {'data-testid' : \"property-floorSpace\"})\n",
    "    region = soup.find_all('div', {'data-testid' : \"property-region\"})\n",
    "    print(f'Processing Page {x} - Data Scrape', end='\\r')\n",
    "    \n",
    "    #Add scraped data to lists\n",
    "    for i, price in enumerate(prices):        \n",
    "        housePrices.append(price.text)\n",
    "        houseBed.append(beds[i].text[0])\n",
    "        houseBath.append(baths[i].text[0])\n",
    "        houseSqrFt.append(sqrFt[i].text.split()[0])\n",
    "        houseRegion.append(region[i].text)\n",
    "    print(f'Processing Page {x} - List append', end='\\r')\n",
    "\n",
    "    #Next Page button\n",
    "    browser.find_by_xpath('//*[@id=\"resultsColumn\"]/nav/ul/li[8]/a/div/svg')\n",
    "    print(f'Processing Page {x} - Next Page', end='\\r')\n",
    "    \n",
    "    "
   ]
  },
  {
   "cell_type": "code",
   "execution_count": null,
   "id": "691696a3-b055-4438-abb8-1b1379e74dc4",
   "metadata": {},
   "outputs": [],
   "source": [
    "# Initialize Data Frame\n",
    "house_df = pd.DataFrame(\n",
    "    {\n",
    "        'Prices': housePrices,\n",
    "        'Beds': houseBed,\n",
    "        'Baths': houseBath,\n",
    "        'SquareFt': houseSqrFt,\n",
    "        'Loc': houseRegion\n",
    "    }\n",
    "\n",
    ")"
   ]
  },
  {
   "cell_type": "code",
   "execution_count": null,
   "id": "4734458b-7ae1-4bf8-9479-03cc352287e2",
   "metadata": {},
   "outputs": [],
   "source": [
    "#Data Conversion\n",
    "\n",
    "try: \n",
    "    house_df.SquareFt = house_df.SquareFt.str.replace(',', '').astype(int)\n",
    "except:\n",
    "    print('Sqrft Data already converted.')\n",
    "try:\n",
    "    house_df.Beds = house_df.Beds.astype(int)\n",
    "except:\n",
    "    print('Bed Data already converted.')\n",
    "try:\n",
    "    house_df.Bath = house_df.Bath.astype(int)\n",
    "except:\n",
    "    print('Bath Data already converted.')\n",
    "\n",
    "try:\n",
    "    house_df.Prices = house_df.Prices.replace('[\\$,]', '', regex=True).astype(float)\n",
    "except:\n",
    "    print('Price Data already Converted.')\n"
   ]
  },
  {
   "cell_type": "code",
   "execution_count": null,
   "id": "07479c03-2b5c-4ddf-b96f-46dd7ed43eb8",
   "metadata": {},
   "outputs": [],
   "source": [
    "house_df.dtypes"
   ]
  },
  {
   "cell_type": "code",
   "execution_count": null,
   "id": "3255a872-2c3a-43fa-8534-d4a67b9c8468",
   "metadata": {},
   "outputs": [],
   "source": [
    "house_df"
   ]
  },
  {
   "cell_type": "code",
   "execution_count": null,
   "id": "ae6c7e8c-91f4-4b70-b91a-0aed861f9013",
   "metadata": {},
   "outputs": [],
   "source": []
  }
 ],
 "metadata": {
  "kernelspec": {
   "display_name": "PythonData",
   "language": "python",
   "name": "pythondata"
  },
  "language_info": {
   "codemirror_mode": {
    "name": "ipython",
    "version": 3
   },
   "file_extension": ".py",
   "mimetype": "text/x-python",
   "name": "python",
   "nbconvert_exporter": "python",
   "pygments_lexer": "ipython3",
   "version": "3.6.10"
  }
 },
 "nbformat": 4,
 "nbformat_minor": 5
}
